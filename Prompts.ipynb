{
 "cells": [
  {
   "cell_type": "code",
   "execution_count": null,
   "id": "88125f9d-99a5-4cad-ac45-1c1322febe02",
   "metadata": {},
   "outputs": [],
   "source": [
    "1.\tSlogan publicitario"
   ]
  },
  {
   "cell_type": "code",
   "execution_count": null,
   "id": "6ed051b2-12a2-41bf-aa0a-ee542e4cc420",
   "metadata": {},
   "outputs": [],
   "source": [
    "Prompt básico:"
   ]
  },
  {
   "cell_type": "code",
   "execution_count": null,
   "id": "4e2a91c1-4314-4237-92d4-4a1261e01f32",
   "metadata": {},
   "outputs": [],
   "source": [
    "Generá un slogan para un kiosco escolar"
   ]
  },
  {
   "cell_type": "code",
   "execution_count": null,
   "id": "877cc328-4fb2-47b4-b231-2dad0f23e3d5",
   "metadata": {},
   "outputs": [],
   "source": [
    "Prompt optimizado:"
   ]
  },
  {
   "cell_type": "code",
   "execution_count": null,
   "id": "bca9efef-7576-4737-8466-fbcfb4b684ad",
   "metadata": {},
   "outputs": [],
   "source": [
    "Actuá como creativo publicitario. Generá un slogan de máximo 6 palabras para un kiosco escolar. Debe sonar juvenil, incluir un verbo de acción y transmitir economía"
   ]
  },
  {
   "cell_type": "code",
   "execution_count": null,
   "id": "2c5e1aee-3a46-4a8e-8829-42f5cda19ae7",
   "metadata": {},
   "outputs": [],
   "source": [
    "2.\tCopy estilo meme"
   ]
  },
  {
   "cell_type": "code",
   "execution_count": null,
   "id": "91e79bc3-285c-479c-90e7-569a7ebc4080",
   "metadata": {},
   "outputs": [],
   "source": [
    "Prompt básico:"
   ]
  },
  {
   "cell_type": "code",
   "execution_count": null,
   "id": "3b5615b2-34dd-452b-837f-95f581680d3e",
   "metadata": {},
   "outputs": [],
   "source": [
    "Escribí un copy divertido para promocionar alfajores"
   ]
  },
  {
   "cell_type": "code",
   "execution_count": null,
   "id": "7b4ae6c5-5897-4f62-adbe-6896a8cd2a0d",
   "metadata": {},
   "outputs": [],
   "source": [
    "Prompt optimizado:"
   ]
  },
  {
   "cell_type": "code",
   "execution_count": null,
   "id": "991a16aa-9690-4f1b-8d5f-7d9342404696",
   "metadata": {},
   "outputs": [],
   "source": [
    "Escribí un copy en formato meme para promocionar alfajores en una escuela secundaria. Usá estructura de setup–remate, referencia escolar y cerrá con un llamado a la acción breve"
   ]
  },
  {
   "cell_type": "code",
   "execution_count": null,
   "id": "e44eeae3-92c0-4a33-8448-1455ff266676",
   "metadata": {},
   "outputs": [],
   "source": [
    "3.\tBrief de imagen publicitaria "
   ]
  },
  {
   "cell_type": "code",
   "execution_count": null,
   "id": "371b6877-693f-452d-97b9-126aabf85d12",
   "metadata": {},
   "outputs": [],
   "source": [
    "Prompt básico:"
   ]
  },
  {
   "cell_type": "code",
   "execution_count": null,
   "id": "283c57b2-7cc0-483a-8240-43e3f0940abc",
   "metadata": {},
   "outputs": [],
   "source": [
    "Imagen de una gaseosa y un alfajor en un kiosco"
   ]
  },
  {
   "cell_type": "code",
   "execution_count": null,
   "id": "3b002b6a-7482-43db-b9cd-f497762bbc07",
   "metadata": {},
   "outputs": [],
   "source": [
    "Prompt optimizado:"
   ]
  },
  {
   "cell_type": "code",
   "execution_count": null,
   "id": "591c4298-191e-43df-b18a-61026b761a81",
   "metadata": {},
   "outputs": [],
   "source": [
    "Render publicitario de una gaseosa fría y un alfajor sobre un mostrador escolar. Estilo juvenil, paleta colorida, tipografía llamativa con el texto ‘2x1 en el recreo’, iluminación brillante y encuadre frontal"
   ]
  }
 ],
 "metadata": {
  "kernelspec": {
   "display_name": "Python 3 (ipykernel)",
   "language": "python",
   "name": "python3"
  },
  "language_info": {
   "codemirror_mode": {
    "name": "ipython",
    "version": 3
   },
   "file_extension": ".py",
   "mimetype": "text/x-python",
   "name": "python",
   "nbconvert_exporter": "python",
   "pygments_lexer": "ipython3",
   "version": "3.13.5"
  }
 },
 "nbformat": 4,
 "nbformat_minor": 5
}
